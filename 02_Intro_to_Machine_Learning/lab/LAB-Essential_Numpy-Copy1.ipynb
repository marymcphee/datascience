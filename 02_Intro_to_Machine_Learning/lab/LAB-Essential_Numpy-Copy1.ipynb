{
 "cells": [
  {
   "cell_type": "markdown",
   "metadata": {},
   "source": [
    "#Basic Numpy"
   ]
  },
  {
   "cell_type": "markdown",
   "metadata": {},
   "source": [
    "##Numpy stands for numerical python"
   ]
  },
  {
   "cell_type": "markdown",
   "metadata": {},
   "source": [
    "####The starring role is played by the \"ndarray\"\n",
    "####The numpy library also provides linear algebra routines\n",
    "####Pandas is built on numpy\n",
    "####There is overlap in what numpy provides, in terms of data analysis capabilities"
   ]
  },
  {
   "cell_type": "code",
   "execution_count": 2,
   "metadata": {
    "collapsed": true
   },
   "outputs": [],
   "source": [
    "#The standard way to import the numpy library\n",
    "import numpy as np"
   ]
  },
  {
   "cell_type": "markdown",
   "metadata": {},
   "source": [
    "#Constructing"
   ]
  },
  {
   "cell_type": "code",
   "execution_count": 4,
   "metadata": {
    "collapsed": false
   },
   "outputs": [
    {
     "name": "stdout",
     "output_type": "stream",
     "text": [
      "[ 3.   4.7  2.   0.   1.2  1. ]\n"
     ]
    }
   ],
   "source": [
    "#TODO create a python list to hold the following numbers 3, 4.7, 2, 0, 1.2, 1\n",
    "mylist = [3, 4.7, 2, 0, 1.2, 1]\n",
    "#TODO convert the python list to an ndarry using the \"np.array()\" method\n",
    "newarray = np.array(mylist)\n",
    "print newarray"
   ]
  },
  {
   "cell_type": "code",
   "execution_count": 6,
   "metadata": {
    "collapsed": false
   },
   "outputs": [
    {
     "name": "stdout",
     "output_type": "stream",
     "text": [
      "(6,)\n",
      "float64\n"
     ]
    }
   ],
   "source": [
    "#TODO using the shape attribute print out the shape of the ndarray you created\n",
    "print newarray.shape\n",
    "#TODO using the dtype attribute print out the type of the ndarray you created\n",
    "print newarray.dtype"
   ]
  },
  {
   "cell_type": "code",
   "execution_count": 13,
   "metadata": {
    "collapsed": false
   },
   "outputs": [
    {
     "name": "stdout",
     "output_type": "stream",
     "text": [
      "[3, 4.7, 2, 0, 1.2, 1, 2, 3.4, 3.3, 6, 2, 1]\n",
      "1\n",
      "(12,)\n",
      "float64\n"
     ]
    }
   ],
   "source": [
    "#TODO create a second list of numbers 2, 3.4, 3.3, 6, 2, 1\n",
    "secondlist=[2, 3.4, 3.3, 6, 2, 1]\n",
    "full=mylist + secondlist\n",
    "print full\n",
    "#TODO in python create a new list which contains the 2 lists of numbers\n",
    "#TODO convert this list of lists into a 2 dimensionl ndarray\n",
    "fullarray = np.array(full)\n",
    "#TODO confirm the dimensionality of the array using the ndim attribute, also print out the shape and type\n",
    "print fullarray.ndim\n",
    "print fullarray.shape\n",
    "print fullarray.dtype"
   ]
  },
  {
   "cell_type": "markdown",
   "metadata": {},
   "source": [
    "####There are a number of helper functions to create arrays from scratch"
   ]
  },
  {
   "cell_type": "code",
   "execution_count": 20,
   "metadata": {
    "collapsed": false
   },
   "outputs": [],
   "source": [
    "#TODO using the np.zeros and np.ones methods create 4 ndarrays, 2 of type int, 2 of type float \n",
    "first = np.zeros(2, dtype=float)\n",
    "second = np.zeros((2, 3), dtype=int)\n",
    "third = np.ones(2, dtype=float)\n",
    "fourth = np.ones((2, 3), dtype=int)\n",
    "#hint: there is a dtype option within the array method that can be used to set the type"
   ]
  },
  {
   "cell_type": "markdown",
   "metadata": {},
   "source": [
    "####It is often necessary to recast data types from one type to another, as we will see with the upcoming exploratory data analysis work"
   ]
  },
  {
   "cell_type": "code",
   "execution_count": 22,
   "metadata": {
    "collapsed": false
   },
   "outputs": [
    {
     "name": "stdout",
     "output_type": "stream",
     "text": [
      "|S32\n"
     ]
    }
   ],
   "source": [
    "#TODO using the built in method astype convert one of the numerica arrays into an array of strings\n",
    "stringfirst = first.astype(str)\n",
    "#TODO confirm that the new array really is of dtype string\n",
    "print stringfirst.dtype"
   ]
  },
  {
   "cell_type": "markdown",
   "metadata": {},
   "source": [
    "##Question: Does astype create a new copy of the array?"
   ]
  },
  {
   "cell_type": "markdown",
   "metadata": {},
   "source": [
    "####Often when you read datasets from file numbers get read as strings"
   ]
  },
  {
   "cell_type": "code",
   "execution_count": 24,
   "metadata": {
    "collapsed": false
   },
   "outputs": [
    {
     "name": "stdout",
     "output_type": "stream",
     "text": [
      "float64\n"
     ]
    }
   ],
   "source": [
    "#TODO convert the array of strings back to floats\n",
    "backagain = stringfirst.astype(float)\n",
    "print backagain.dtype"
   ]
  },
  {
   "cell_type": "code",
   "execution_count": 73,
   "metadata": {
    "collapsed": false
   },
   "outputs": [
    {
     "name": "stdout",
     "output_type": "stream",
     "text": [
      "(20,)\n",
      "[50 52 54 56 58 60 62 64 66 68 70 72 74 76 78 80 82 84 86 88]\n"
     ]
    }
   ],
   "source": [
    "#TODO what does the np.arange do\n",
    "#TODO create an integer array containing 20 integers, starting at 50 and going up in steps of 2\n",
    "test = np.arange (50, 90, 2, dtype=int)\n",
    "print test.shape\n",
    "print test"
   ]
  },
  {
   "cell_type": "markdown",
   "metadata": {},
   "source": [
    "#Vectorization"
   ]
  },
  {
   "cell_type": "code",
   "execution_count": 41,
   "metadata": {
    "collapsed": false
   },
   "outputs": [],
   "source": [
    "#TODO create a 2 by 3 array of floats - use the array you created above or create new ones\n",
    "x = np.array(((2, 3), (8,2), (9,1)), dtype=float)"
   ]
  },
  {
   "cell_type": "code",
   "execution_count": 45,
   "metadata": {
    "collapsed": false
   },
   "outputs": [
    {
     "name": "stdout",
     "output_type": "stream",
     "text": [
      "[[  4.   9.]\n",
      " [ 64.   4.]\n",
      " [ 81.   1.]]\n",
      "25.0\n",
      "[[  8.6  12.9]\n",
      " [ 34.4   8.6]\n",
      " [ 38.7   4.3]]\n"
     ]
    }
   ],
   "source": [
    "#TODO produce an array of the squares of all the number\n",
    "print np.square(x)\n",
    "#TODO produce an array of the sum of all the numbers\n",
    "print np.sum(x)\n",
    "#TODO produce an array where all the numbers are multiplied by 4.3\n",
    "print np.multiply(x, 4.3)"
   ]
  },
  {
   "cell_type": "markdown",
   "metadata": {},
   "source": [
    "##Question what is the difference between vectorization and broadcasting"
   ]
  },
  {
   "cell_type": "markdown",
   "metadata": {},
   "source": [
    "#Basic Indexing, Slicing and Dicing"
   ]
  },
  {
   "cell_type": "code",
   "execution_count": 59,
   "metadata": {
    "collapsed": false
   },
   "outputs": [
    {
     "name": "stdout",
     "output_type": "stream",
     "text": [
      "[50 52 54 56 58 60 62 64 66 68 70 72 74 76 78 80 82 84 86 88]\n",
      "58\n",
      "[58 60 62 64]\n"
     ]
    }
   ],
   "source": [
    "#TODO using the array of 20 integers you created above find:\n",
    "#The 5th element\n",
    "print test\n",
    "print test[4]\n",
    "#The 5th to 8th elements inclusive\n",
    "print test[4:8]"
   ]
  },
  {
   "cell_type": "code",
   "execution_count": 63,
   "metadata": {
    "collapsed": false
   },
   "outputs": [
    {
     "name": "stdout",
     "output_type": "stream",
     "text": [
      "[ 324.8  336.   347.2  358.4]\n",
      "[50 52 54 56 58 60 62 64 66 68 70 72 74 76 78 80 82 84 86 88]\n"
     ]
    }
   ],
   "source": [
    "#TODO multiply the 5th to 8th elements by 5.6\n",
    "print np.multiply(test[4:8], 5.6)\n",
    "#TODO now print the original array in full\n",
    "print test"
   ]
  },
  {
   "cell_type": "markdown",
   "metadata": {},
   "source": [
    "##Question: What do you notice about the changes you made to the slice?"
   ]
  },
  {
   "cell_type": "code",
   "execution_count": 65,
   "metadata": {
    "collapsed": false
   },
   "outputs": [
    {
     "name": "stdout",
     "output_type": "stream",
     "text": [
      "[ 29.  30.  31.  32.]\n",
      "[50 52 54 56 58 60 62 64 66 68 70 72 74 76 78 80 82 84 86 88]\n"
     ]
    }
   ],
   "source": [
    "#TODO This time make a slice by using the 'copy' method\n",
    "new = np.copy(test[4:8])\n",
    "#TODO Multiply this by 0.5\n",
    "print np.multiply(new, 0.5)\n",
    "#TODO print the original array\n",
    "print test"
   ]
  },
  {
   "cell_type": "markdown",
   "metadata": {},
   "source": [
    "####This is the difference between a view and a copy"
   ]
  },
  {
   "cell_type": "code",
   "execution_count": 74,
   "metadata": {
    "collapsed": false
   },
   "outputs": [
    {
     "name": "stdout",
     "output_type": "stream",
     "text": [
      "[50 52 54 56 58 60 62 64 66]\n",
      "[56 58 60 62 64 66 68 70 72 74 76 78 80 82 84 86 88]\n",
      "[50 52 54 32 32 32 32 32 32 32 32 32 32 32 32 32 32 32 32 32]\n"
     ]
    }
   ],
   "source": [
    "#TODO using the array of 20 integers slice the array from the begining to the 10th element\n",
    "print test[:9]\n",
    "#TODO now slice it from the 4th element to the end\n",
    "print test[3:]\n",
    "#TODO assign 32 to all the elements of the slice\n",
    "test[3:] = 32\n",
    "#TODO print the original array\n",
    "print test"
   ]
  },
  {
   "cell_type": "markdown",
   "metadata": {},
   "source": [
    "##Sorting"
   ]
  },
  {
   "cell_type": "code",
   "execution_count": 83,
   "metadata": {
    "collapsed": false
   },
   "outputs": [
    {
     "name": "stdout",
     "output_type": "stream",
     "text": [
      "[1 2 4 5 8]\n"
     ]
    }
   ],
   "source": [
    "a = np.array([4, 5, 2, 8, 1])\n",
    "#TODO using the built in sort method to sort this array\n",
    "new = np.sort(a, axis=0)\n",
    "#TODO confirm the array has been sorted by printing out the array\n",
    "print new"
   ]
  },
  {
   "cell_type": "code",
   "execution_count": 95,
   "metadata": {
    "collapsed": false
   },
   "outputs": [
    {
     "name": "stdout",
     "output_type": "stream",
     "text": [
      "(2, 3)\n",
      "[ 3  4 29]\n",
      "[ 6  8 11]\n",
      "[[ 4  3 29]\n",
      " [ 8  6 11]]\n",
      "[4 8]\n",
      "[3 6]\n",
      "[11 29]\n"
     ]
    }
   ],
   "source": [
    "a = np.array([[4, 3, 29], [8, 6, 11]])\n",
    "#TODO print the shape of this multi-dimensional array\n",
    "print a.shape\n",
    "#TODO print the array an sort each row, reprint the array to confirm\n",
    "print np.sort(a[0])\n",
    "print np.sort(a[1])\n",
    "print a\n",
    "##how do you get this back in without writing a new array?\n",
    "a = np.array([[4, 3, 29], [8, 6, 11]])\n",
    "print np.sort(a[:,0])\n",
    "print np.sort (a[:,1])\n",
    "print np.sort (a[:,2])\n",
    "#TODO now sort by columns"
   ]
  },
  {
   "cell_type": "markdown",
   "metadata": {},
   "source": [
    "##NP arrays as sets"
   ]
  },
  {
   "cell_type": "code",
   "execution_count": 96,
   "metadata": {
    "collapsed": false
   },
   "outputs": [
    {
     "name": "stdout",
     "output_type": "stream",
     "text": [
      "['Bill' 'Daniel' 'Jim' 'John' 'Tony']\n"
     ]
    }
   ],
   "source": [
    "names = np.array(['Jim', 'John', 'Bill', 'Tony', 'Jim', 'Bill', 'Daniel', 'Jim'])\n",
    "#TODO print out just the unique names in this nd array\n",
    "print np.unique(names)"
   ]
  },
  {
   "cell_type": "markdown",
   "metadata": {},
   "source": [
    "#Random Number Generation"
   ]
  },
  {
   "cell_type": "markdown",
   "metadata": {},
   "source": [
    "Here is a linkg to the documentation for the random sampling routines built into numpy http://docs.scipy.org/doc/numpy/reference/routines.random.html#\n",
    "\n",
    "These are incredibly useful and powerful"
   ]
  },
  {
   "cell_type": "code",
   "execution_count": 99,
   "metadata": {
    "collapsed": false
   },
   "outputs": [
    {
     "name": "stdout",
     "output_type": "stream",
     "text": [
      "[ 0.37898112  0.05516023  0.82080338  0.38682452  0.51022774  0.10394848\n",
      "  0.58762998  0.3127031   0.41741468  0.58627843]\n"
     ]
    }
   ],
   "source": [
    "#TODO using np.random.rand create an array of 10 random numbers\n",
    "randomness = np.random.rand(10)\n",
    "print randomness"
   ]
  },
  {
   "cell_type": "markdown",
   "metadata": {},
   "source": [
    "#Universal Functions"
   ]
  },
  {
   "cell_type": "markdown",
   "metadata": {},
   "source": [
    "####A function that performs elementwise operation on the data in an nddarray."
   ]
  },
  {
   "cell_type": "code",
   "execution_count": 101,
   "metadata": {
    "collapsed": false
   },
   "outputs": [
    {
     "name": "stdout",
     "output_type": "stream",
     "text": [
      "[ 0.61561443  0.23486215  0.905982    0.62195218  0.71430227  0.32241041\n",
      "  0.76657027  0.55919862  0.64607637  0.76568821]\n",
      "[ 0.37898112  0.05516023  0.82080338  0.38682452  0.51022774  0.10394848\n",
      "  0.58762998  0.3127031   0.41741468  0.58627843]\n"
     ]
    }
   ],
   "source": [
    "#TODO using the random number array you created above caluclate the following for all the elements of the array:\n",
    "#the square root\n",
    "print np.sqrt(randomness)\n",
    "#the absolute value\n",
    "print np.abs(randomness)"
   ]
  },
  {
   "cell_type": "code",
   "execution_count": 107,
   "metadata": {
    "collapsed": false
   },
   "outputs": [
    {
     "name": "stdout",
     "output_type": "stream",
     "text": [
      "[False False False False False False False False False False]\n"
     ]
    }
   ],
   "source": [
    "#TOD create a boolean array by checking that each element of the array is \"not a number\n",
    "boolean = np.isnan(randomness)\n",
    "print boolean"
   ]
  },
  {
   "cell_type": "markdown",
   "metadata": {},
   "source": [
    "##Mathematical and Statistical Methods"
   ]
  },
  {
   "cell_type": "code",
   "execution_count": 117,
   "metadata": {
    "collapsed": false
   },
   "outputs": [],
   "source": [
    "#TODO create an array of 1000 normally distributed numbers (standard normal distribution)\n",
    "normalness = np.random.normal(0, 10, 1000)"
   ]
  },
  {
   "cell_type": "code",
   "execution_count": 122,
   "metadata": {
    "collapsed": false
   },
   "outputs": [
    {
     "name": "stdout",
     "output_type": "stream",
     "text": [
      "-0.179277745951\n",
      "-179.277745951\n",
      "9.84567842915\n",
      "[ -1.31282064e+01  -4.30952397e+00  -9.89371343e+00   6.20007668e+00\n",
      "   9.38179486e+00   1.70277194e+01   3.08874838e+01   5.28291840e+01\n",
      "   6.23531468e+01   6.49975437e+01   6.92522495e+01   7.32272545e+01\n",
      "   6.43704494e+01   5.82388523e+01   5.22697497e+01   6.01749021e+01\n",
      "   6.74613025e+01   8.02632706e+01   6.59225994e+01   6.89717384e+01\n",
      "   6.12142625e+01   6.15087674e+01   5.70354671e+01   5.73819720e+01\n",
      "   6.86989452e+01   6.80908231e+01   5.45447495e+01   6.78589834e+01\n",
      "   6.87413331e+01   5.80929094e+01   5.62202448e+01   5.83825106e+01\n",
      "   7.17598856e+01   7.14390983e+01   7.82443961e+01   7.26791017e+01\n",
      "   8.30888617e+01   8.94222395e+01   9.24611325e+01   6.85190667e+01\n",
      "   6.77910406e+01   7.95936922e+01   8.46825316e+01   8.86857442e+01\n",
      "   7.17126538e+01   8.05486284e+01   9.00816306e+01   9.52294891e+01\n",
      "   9.00143976e+01   8.66381218e+01   8.93704748e+01   9.26423618e+01\n",
      "   1.01108647e+02   1.23454894e+02   1.05726458e+02   1.14844193e+02\n",
      "   1.09276465e+02   1.28238408e+02   1.29139294e+02   1.23508148e+02\n",
      "   1.03610908e+02   6.96201138e+01   8.38988095e+01   9.47645451e+01\n",
      "   8.98898485e+01   6.78136783e+01   6.27904428e+01   6.63922452e+01\n",
      "   8.49787865e+01   7.21040193e+01   7.16951841e+01   6.93861243e+01\n",
      "   7.24695973e+01   7.31141495e+01   6.19463396e+01   6.15127282e+01\n",
      "   5.72952001e+01   4.25462167e+01   5.32266732e+01   4.38129475e+01\n",
      "   4.45958672e+01   6.24984978e+01   5.18208787e+01   5.87012925e+01\n",
      "   4.64631619e+01   5.74789011e+01   6.14488021e+01   6.16962897e+01\n",
      "   7.70617163e+01   7.41415590e+01   7.71296825e+01   8.73646100e+01\n",
      "   8.95598884e+01   8.08698038e+01   8.51155081e+01   8.56996683e+01\n",
      "   9.84892647e+01   1.10173115e+02   1.10484317e+02   1.11987344e+02\n",
      "   1.18522651e+02   1.22548517e+02   1.43036664e+02   1.28877721e+02\n",
      "   1.34083487e+02   1.36721686e+02   1.31902489e+02   1.24548767e+02\n",
      "   1.25067811e+02   1.15839512e+02   1.15693893e+02   1.07065860e+02\n",
      "   9.41660669e+01   8.30225028e+01   1.01185901e+02   1.13122072e+02\n",
      "   1.12322840e+02   1.04685858e+02   1.15828043e+02   1.06429415e+02\n",
      "   1.05387515e+02   1.09407603e+02   1.15278617e+02   9.90913094e+01\n",
      "   9.92910480e+01   8.86801077e+01   9.96798153e+01   1.09949382e+02\n",
      "   1.27005298e+02   1.21812880e+02   1.12221581e+02   1.12413303e+02\n",
      "   1.25225280e+02   1.17929735e+02   1.14480883e+02   1.12956284e+02\n",
      "   1.30740001e+02   1.44793651e+02   1.35224919e+02   1.36763996e+02\n",
      "   1.42310673e+02   1.49093405e+02   1.48652483e+02   1.50967886e+02\n",
      "   1.40211622e+02   1.51189724e+02   1.63782466e+02   1.72045527e+02\n",
      "   1.92010497e+02   1.92057509e+02   1.87023332e+02   1.97769849e+02\n",
      "   2.07915527e+02   1.99346344e+02   2.07309909e+02   2.11446562e+02\n",
      "   2.19177604e+02   2.23461094e+02   2.30691502e+02   2.33910421e+02\n",
      "   2.19244958e+02   2.36427904e+02   2.35279747e+02   2.29662581e+02\n",
      "   2.38998939e+02   2.51011005e+02   2.52397286e+02   2.61938476e+02\n",
      "   2.69436295e+02   2.67905778e+02   2.60977864e+02   2.67551677e+02\n",
      "   2.60769602e+02   2.57324706e+02   2.57113552e+02   2.42181356e+02\n",
      "   2.54873792e+02   2.52495235e+02   2.45805455e+02   2.45543635e+02\n",
      "   2.34715419e+02   2.50699759e+02   2.47651558e+02   2.21515046e+02\n",
      "   2.17741258e+02   2.28765955e+02   2.47230664e+02   2.52728619e+02\n",
      "   2.50928299e+02   2.34681850e+02   2.38992716e+02   2.28119279e+02\n",
      "   2.33837697e+02   2.39066575e+02   2.43353738e+02   2.49568208e+02\n",
      "   2.34676290e+02   2.41981333e+02   2.40184300e+02   2.36197088e+02\n",
      "   2.35831097e+02   2.18015422e+02   2.08969478e+02   2.05239138e+02\n",
      "   2.14201456e+02   2.12253225e+02   2.12413140e+02   1.93944554e+02\n",
      "   2.05910713e+02   1.95228302e+02   2.08432772e+02   2.10692962e+02\n",
      "   2.13089705e+02   2.24711528e+02   2.10579223e+02   2.03695418e+02\n",
      "   2.16232373e+02   1.98435684e+02   2.10985076e+02   2.17570394e+02\n",
      "   2.09308418e+02   2.00359705e+02   1.96427689e+02   1.96795155e+02\n",
      "   2.27209227e+02   2.19421213e+02   2.07699704e+02   2.24207057e+02\n",
      "   2.28982200e+02   2.28812676e+02   2.11112032e+02   2.14097481e+02\n",
      "   2.23877478e+02   2.19243496e+02   2.30253184e+02   2.51777788e+02\n",
      "   2.43781454e+02   2.45611897e+02   2.41630186e+02   2.40241635e+02\n",
      "   2.51053303e+02   2.55456430e+02   2.46922731e+02   2.48060298e+02\n",
      "   2.47339934e+02   2.54593425e+02   2.64667460e+02   2.54827706e+02\n",
      "   2.58228992e+02   2.56052598e+02   2.52170926e+02   2.65558131e+02\n",
      "   2.60384288e+02   2.60438256e+02   2.65188712e+02   2.71233467e+02\n",
      "   2.60263025e+02   2.50068421e+02   2.33274739e+02   2.24393551e+02\n",
      "   2.33095415e+02   2.47936582e+02   2.40055844e+02   2.56524919e+02\n",
      "   2.62286451e+02   2.69459692e+02   2.72274815e+02   2.73356503e+02\n",
      "   2.72111636e+02   2.71868616e+02   2.79066654e+02   2.76251913e+02\n",
      "   2.78625773e+02   2.86422774e+02   2.99019134e+02   3.06680736e+02\n",
      "   3.12456514e+02   3.04561586e+02   2.99628601e+02   3.08457356e+02\n",
      "   3.04980164e+02   3.09011893e+02   3.08611500e+02   3.13431944e+02\n",
      "   3.06048063e+02   3.12949550e+02   3.04723035e+02   2.90678180e+02\n",
      "   2.81936665e+02   2.96722138e+02   3.05405766e+02   3.01475450e+02\n",
      "   2.97626035e+02   2.80411200e+02   2.87485039e+02   2.89144181e+02\n",
      "   3.00102276e+02   2.98284474e+02   2.99502684e+02   2.97211998e+02\n",
      "   2.94767737e+02   3.16676893e+02   3.22590474e+02   3.35589027e+02\n",
      "   3.43502654e+02   3.41379206e+02   3.21191930e+02   3.22481101e+02\n",
      "   3.34425764e+02   3.15478592e+02   3.29499547e+02   3.15079707e+02\n",
      "   3.23629046e+02   3.27342156e+02   3.41045437e+02   3.58629842e+02\n",
      "   3.68123426e+02   3.51033986e+02   3.62764494e+02   3.58778112e+02\n",
      "   3.58180422e+02   3.69476854e+02   3.71821826e+02   3.76710519e+02\n",
      "   3.81130353e+02   3.80358086e+02   3.69452636e+02   3.56894308e+02\n",
      "   3.57824606e+02   3.56807258e+02   3.53748910e+02   3.60793571e+02\n",
      "   3.52741798e+02   3.42849081e+02   3.23476675e+02   2.98823641e+02\n",
      "   2.86743717e+02   2.85318662e+02   2.72424116e+02   2.65649827e+02\n",
      "   2.40692392e+02   2.33404317e+02   2.30046808e+02   2.34603941e+02\n",
      "   2.35935440e+02   2.49611394e+02   2.40182271e+02   2.41972845e+02\n",
      "   2.35768966e+02   2.32580838e+02   2.21302953e+02   2.12155621e+02\n",
      "   2.12966137e+02   2.07087563e+02   2.10634065e+02   2.08634609e+02\n",
      "   2.01298498e+02   2.03655810e+02   2.04155103e+02   2.02307287e+02\n",
      "   2.07163093e+02   1.96968874e+02   1.95987039e+02   1.98116320e+02\n",
      "   2.04840560e+02   1.90783655e+02   1.92457266e+02   2.09807088e+02\n",
      "   2.11426868e+02   1.98660631e+02   2.04611043e+02   1.99083959e+02\n",
      "   2.03432307e+02   2.10861429e+02   2.15073744e+02   2.17083931e+02\n",
      "   2.08946818e+02   2.28977813e+02   2.36887255e+02   2.10182672e+02\n",
      "   1.96569465e+02   1.90149316e+02   1.92263198e+02   1.88589073e+02\n",
      "   2.06384842e+02   1.99172644e+02   1.87334863e+02   1.97591895e+02\n",
      "   1.95082563e+02   2.02217048e+02   1.86029765e+02   1.93460450e+02\n",
      "   1.95340250e+02   2.03905687e+02   1.95025557e+02   1.97997355e+02\n",
      "   1.91261703e+02   1.99976787e+02   1.96565225e+02   2.09958049e+02\n",
      "   2.18489568e+02   2.18628876e+02   2.14780890e+02   2.20542185e+02\n",
      "   1.99663711e+02   1.79264134e+02   1.92202277e+02   1.96955987e+02\n",
      "   1.90900490e+02   1.77545770e+02   1.86337658e+02   1.83638263e+02\n",
      "   1.85911109e+02   1.85700208e+02   1.91221375e+02   1.92627959e+02\n",
      "   1.86269714e+02   1.83178937e+02   1.66306930e+02   1.87717300e+02\n",
      "   1.80918016e+02   1.72627842e+02   1.77228221e+02   1.77032534e+02\n",
      "   1.65751757e+02   1.60669230e+02   1.65657135e+02   1.68952394e+02\n",
      "   1.79260957e+02   1.72476681e+02   1.70231142e+02   1.77466111e+02\n",
      "   1.75045735e+02   1.74107235e+02   1.79989155e+02   1.72087172e+02\n",
      "   1.52407583e+02   1.51475466e+02   1.48876363e+02   1.51773634e+02\n",
      "   1.51106864e+02   1.52299279e+02   1.61564514e+02   1.47097497e+02\n",
      "   1.34503856e+02   1.43132436e+02   1.46602631e+02   1.44612404e+02\n",
      "   1.56260375e+02   1.80631902e+02   1.99428423e+02   2.04930306e+02\n",
      "   2.05555959e+02   1.88822620e+02   1.78369284e+02   1.67651514e+02\n",
      "   1.62517130e+02   1.69133678e+02   1.78969614e+02   1.73057749e+02\n",
      "   1.44420766e+02   1.46371558e+02   1.69698148e+02   1.71324629e+02\n",
      "   1.50259067e+02   1.50167484e+02   1.58639111e+02   1.63567661e+02\n",
      "   1.79773445e+02   1.71794852e+02   1.61506057e+02   1.58731455e+02\n",
      "   1.61559972e+02   1.57251079e+02   1.60233441e+02   1.55571376e+02\n",
      "   1.59756809e+02   1.60166967e+02   1.64387433e+02   1.51642038e+02\n",
      "   1.53736797e+02   1.43278015e+02   1.50344746e+02   1.48924576e+02\n",
      "   1.64581817e+02   1.81404016e+02   1.95529064e+02   1.88140954e+02\n",
      "   1.99488280e+02   2.09905749e+02   2.12731431e+02   2.15623954e+02\n",
      "   1.95762732e+02   1.90224954e+02   1.85484829e+02   2.05738335e+02\n",
      "   2.19756729e+02   2.34933315e+02   2.45004327e+02   2.22392901e+02\n",
      "   2.01611278e+02   2.02316894e+02   2.07229858e+02   2.30928697e+02\n",
      "   2.25673276e+02   2.20490635e+02   2.11906285e+02   2.02057296e+02\n",
      "   2.12890877e+02   1.98154364e+02   2.00088160e+02   2.07166023e+02\n",
      "   1.96406360e+02   2.03336859e+02   2.07932469e+02   2.09301662e+02\n",
      "   2.13159017e+02   2.12262793e+02   2.12891758e+02   2.00630426e+02\n",
      "   1.86871008e+02   1.72060773e+02   1.64397354e+02   1.46144196e+02\n",
      "   1.35747605e+02   1.36051619e+02   1.28657457e+02   1.22967271e+02\n",
      "   1.17205181e+02   1.25374444e+02   1.17196110e+02   9.26932700e+01\n",
      "   9.55966922e+01   1.05706790e+02   1.00364546e+02   1.19284815e+02\n",
      "   1.10703771e+02   9.62015871e+01   1.01073247e+02   1.15037180e+02\n",
      "   9.52702097e+01   8.93791386e+01   9.79932318e+01   9.19901387e+01\n",
      "   1.06144860e+02   1.01310361e+02   1.06149908e+02   1.10166780e+02\n",
      "   1.09886856e+02   1.10754823e+02   1.02944989e+02   1.22745447e+02\n",
      "   1.27546451e+02   1.34857429e+02   1.35187892e+02   1.31010894e+02\n",
      "   1.36177410e+02   1.37102819e+02   1.43274182e+02   1.26144243e+02\n",
      "   1.27596746e+02   1.34724108e+02   1.31479261e+02   1.35487325e+02\n",
      "   1.35619828e+02   1.45104012e+02   1.46795659e+02   1.51227225e+02\n",
      "   1.34050853e+02   1.28596425e+02   1.37797376e+02   1.27504911e+02\n",
      "   1.21308987e+02   1.24535690e+02   1.15657590e+02   1.28898112e+02\n",
      "   1.18661569e+02   1.28672101e+02   1.19778136e+02   1.26467098e+02\n",
      "   1.27449717e+02   1.10422673e+02   1.20399987e+02   1.24230372e+02\n",
      "   1.28674794e+02   1.33390662e+02   1.20607081e+02   1.12760473e+02\n",
      "   9.69335490e+01   9.30665427e+01   9.45202921e+01   9.21910375e+01\n",
      "   8.17432275e+01   7.60462396e+01   9.47273440e+01   9.92672621e+01\n",
      "   9.40621427e+01   9.65024224e+01   1.02952465e+02   8.53389108e+01\n",
      "   8.13421321e+01   7.30719242e+01   6.63433191e+01   8.08858902e+01\n",
      "   7.37238351e+01   7.97891750e+01   8.31685967e+01   1.01671055e+02\n",
      "   1.04448712e+02   1.01404246e+02   1.09027826e+02   1.13602760e+02\n",
      "   1.15490512e+02   1.14000608e+02   1.14891108e+02   1.17470693e+02\n",
      "   1.29021590e+02   1.20049471e+02   1.19479593e+02   1.33350743e+02\n",
      "   1.29160072e+02   1.32408602e+02   1.53975877e+02   1.45737476e+02\n",
      "   1.41475299e+02   1.41216651e+02   1.21670663e+02   1.29289585e+02\n",
      "   1.23128475e+02   1.19324204e+02   1.04949841e+02   9.89891944e+01\n",
      "   8.97809453e+01   8.82420211e+01   8.65786537e+01   9.26915084e+01\n",
      "   9.22445867e+01   1.01404917e+02   1.12945142e+02   1.05620378e+02\n",
      "   1.12155349e+02   9.99948502e+01   1.00276329e+02   7.99202929e+01\n",
      "   8.58294389e+01   1.03246156e+02   1.20144452e+02   1.34087583e+02\n",
      "   1.25268092e+02   1.25371701e+02   1.32066335e+02   1.34682274e+02\n",
      "   1.39021242e+02   1.22252122e+02   1.09813861e+02   1.11662713e+02\n",
      "   1.07876539e+02   1.12851263e+02   1.01960708e+02   1.01982938e+02\n",
      "   1.12303648e+02   1.16045625e+02   1.07215546e+02   1.19640015e+02\n",
      "   1.12141404e+02   1.01772176e+02   9.78378208e+01   1.09683580e+02\n",
      "   9.87118641e+01   9.46464749e+01   9.01826081e+01   1.03731465e+02\n",
      "   1.01665972e+02   9.75296784e+01   1.09561187e+02   1.14502368e+02\n",
      "   1.21699184e+02   1.14051598e+02   1.10124143e+02   1.08348243e+02\n",
      "   8.79406579e+01   8.61465718e+01   9.28535893e+01   1.07946237e+02\n",
      "   9.55215336e+01   7.64320355e+01   7.08211598e+01   7.30262587e+01\n",
      "   7.59146205e+01   8.82000801e+01   8.38330119e+01   8.49771475e+01\n",
      "   7.34392513e+01   5.86190242e+01   6.03446932e+01   4.82396572e+01\n",
      "   4.51909158e+01   3.40693839e+01   4.45551863e+01   3.77374363e+01\n",
      "   3.44425705e+01   1.33922745e+01   2.18948712e+01   1.27617267e+01\n",
      "   1.11020661e+01   8.29587079e+00   1.08695461e+01   3.83755507e+00\n",
      "   1.02375535e+01   1.76631851e+01   1.81342143e+01   2.21388892e+01\n",
      "   2.02954261e+01   2.60943375e+01   2.34138555e+01   2.50708681e+01\n",
      "   3.08783619e+01   3.22453110e+01   3.67265224e+01   2.57355109e+01\n",
      "   3.85321018e+01   4.16846706e+01   3.38152131e+01   2.46696672e+01\n",
      "   2.26117171e+01   1.75142475e+01   2.07772416e+01   2.60794078e+01\n",
      "   1.95385385e+01   1.57277776e+01  -1.82170043e-01   1.88333850e+01\n",
      "   3.25766797e+01   2.06856386e+01   3.33188080e+01   2.70027049e+01\n",
      "   1.26245806e+01   3.64744204e+01   2.59740050e+01   1.78303276e+01\n",
      "   1.88446113e+01   1.51158574e+01   2.67494874e+00   1.13449017e+01\n",
      "   1.82327427e+01  -8.40943265e+00  -4.65831569e+00   6.77736846e+00\n",
      "   1.63148110e+00   2.26101283e+00   1.47715786e+01   6.33250262e+00\n",
      "   5.86566909e+00   1.12053269e+01   5.04437901e+00   3.90241546e+00\n",
      "  -5.84162335e+00  -2.18395231e+01  -2.01872218e+01   3.49303885e+00\n",
      "   1.65280630e+01   1.02417360e+01   4.37182855e+00  -7.67139615e+00\n",
      "   5.31302635e+00  -2.31813165e+00   1.20982869e+01  -1.04644044e+01\n",
      "  -2.78650954e+01  -4.57603999e+01  -3.19390039e+01  -4.10909021e+01\n",
      "  -4.18150151e+01  -4.37010771e+01  -3.80451461e+01  -5.40986900e+01\n",
      "  -5.37385837e+01  -5.95129769e+01  -5.56377525e+01  -6.18488634e+01\n",
      "  -7.19211557e+01  -7.81204221e+01  -8.16243976e+01  -8.12996267e+01\n",
      "  -7.97349711e+01  -1.02186226e+02  -1.12799385e+02  -1.18102293e+02\n",
      "  -1.17155903e+02  -1.20986283e+02  -1.21760501e+02  -1.09273098e+02\n",
      "  -1.07228290e+02  -1.13607034e+02  -1.11654845e+02  -1.22946281e+02\n",
      "  -1.18039209e+02  -1.04656971e+02  -1.23253129e+02  -1.21412576e+02\n",
      "  -1.18287207e+02  -1.32855782e+02  -1.26745045e+02  -1.12471457e+02\n",
      "  -1.21588013e+02  -1.32830698e+02  -1.27278096e+02  -1.39740031e+02\n",
      "  -1.44935000e+02  -1.35551385e+02  -1.36787374e+02  -1.21832028e+02\n",
      "  -1.29206530e+02  -1.26641467e+02  -1.47133981e+02  -1.47919713e+02\n",
      "  -1.49183786e+02  -1.58351437e+02  -1.58832920e+02  -1.51161112e+02\n",
      "  -1.50977981e+02  -1.56885507e+02  -1.61070274e+02  -1.60544419e+02\n",
      "  -1.60865360e+02  -1.76540096e+02  -1.56878119e+02  -1.59814450e+02\n",
      "  -1.52008002e+02  -1.69486069e+02  -1.64119656e+02  -1.66463356e+02\n",
      "  -1.75210217e+02  -1.92394196e+02  -1.91458060e+02  -1.82990881e+02\n",
      "  -1.74371389e+02  -1.76227743e+02  -1.88222204e+02  -1.86113322e+02\n",
      "  -1.79154361e+02  -1.85485245e+02  -1.96762279e+02  -1.92716792e+02\n",
      "  -1.92904315e+02  -1.73657368e+02  -1.74264342e+02  -1.76503539e+02\n",
      "  -1.65800062e+02  -1.62100577e+02  -1.67731057e+02  -1.61745803e+02\n",
      "  -1.65593948e+02  -1.60545256e+02  -1.56972447e+02  -1.56512365e+02\n",
      "  -1.61027797e+02  -1.51948775e+02  -1.49903483e+02  -1.77359332e+02\n",
      "  -1.80847182e+02  -1.75987205e+02  -1.63959169e+02  -1.54367750e+02\n",
      "  -1.54153930e+02  -1.57211918e+02  -1.47352941e+02  -1.43304747e+02\n",
      "  -1.46841479e+02  -1.50289335e+02  -1.51133615e+02  -1.40507223e+02\n",
      "  -1.20321373e+02  -1.28426323e+02  -1.22459219e+02  -1.13367004e+02\n",
      "  -1.11540265e+02  -1.28235747e+02  -1.27144782e+02  -1.18707780e+02\n",
      "  -1.22433510e+02  -1.37303039e+02  -1.17155624e+02  -1.26495064e+02\n",
      "  -1.17728270e+02  -1.02590222e+02  -1.05870604e+02  -1.00774285e+02\n",
      "  -1.04723620e+02  -1.09847339e+02  -1.22405330e+02  -1.12681611e+02\n",
      "  -1.14107792e+02  -1.31661356e+02  -1.30165320e+02  -1.28528811e+02\n",
      "  -1.46497535e+02  -1.43489469e+02  -1.52420589e+02  -1.69932283e+02\n",
      "  -1.77016417e+02  -1.72851462e+02  -1.74249106e+02  -1.74877803e+02\n",
      "  -1.78506131e+02  -1.79936027e+02  -1.65101102e+02  -1.64609108e+02\n",
      "  -1.70009618e+02  -1.74941166e+02  -1.75063457e+02  -1.76212225e+02\n",
      "  -1.92987038e+02  -1.85317620e+02  -1.88508012e+02  -1.92836858e+02\n",
      "  -1.91965874e+02  -1.90279214e+02  -1.91547393e+02  -1.75236057e+02\n",
      "  -1.64391466e+02  -1.59234274e+02  -1.49264379e+02  -1.49755493e+02\n",
      "  -1.41084242e+02  -1.44970629e+02  -1.39228858e+02  -1.37292986e+02\n",
      "  -1.38813183e+02  -1.54168707e+02  -1.39173759e+02  -1.42464345e+02\n",
      "  -1.39221334e+02  -1.28985019e+02  -1.24798867e+02  -1.27105974e+02\n",
      "  -1.32658021e+02  -1.14604180e+02  -8.95420070e+01  -8.55280516e+01\n",
      "  -6.78489475e+01  -5.25074753e+01  -5.83697051e+01  -6.77744011e+01\n",
      "  -7.21470539e+01  -7.38130631e+01  -7.52754056e+01  -6.05369338e+01\n",
      "  -6.54237538e+01  -7.71905719e+01  -8.39125198e+01  -6.24440848e+01\n",
      "  -5.92308437e+01  -6.50314355e+01  -8.15743633e+01  -8.57062317e+01\n",
      "  -9.04874315e+01  -9.78002307e+01  -8.99233255e+01  -1.05743178e+02\n",
      "  -1.12079351e+02  -1.27114278e+02  -1.26192799e+02  -1.13321801e+02\n",
      "  -1.19630089e+02  -1.21818995e+02  -1.29329871e+02  -1.35498837e+02\n",
      "  -1.36265839e+02  -1.41472507e+02  -1.25962825e+02  -1.21703108e+02\n",
      "  -1.19621898e+02  -1.31655377e+02  -1.28733037e+02  -1.29182837e+02\n",
      "  -1.31982473e+02  -1.44571943e+02  -1.41108397e+02  -1.30429913e+02\n",
      "  -1.45037616e+02  -1.44422850e+02  -1.47259493e+02  -1.28493531e+02\n",
      "  -1.24089388e+02  -1.32969584e+02  -1.29447264e+02  -1.41786260e+02\n",
      "  -1.39916924e+02  -1.46863098e+02  -1.58407088e+02  -1.63237744e+02\n",
      "  -1.77918264e+02  -1.82716502e+02  -1.81577045e+02  -1.82561007e+02\n",
      "  -1.80204518e+02  -1.72847264e+02  -1.85195900e+02  -1.79277746e+02]\n"
     ]
    }
   ],
   "source": [
    "#TODO get the mean, sum, standard deviation, and cumulative sum\n",
    "print np.mean(normalness)\n",
    "print np.sum(normalness)\n",
    "print np.std(normalness)\n",
    "print np.cumsum(normalness)"
   ]
  },
  {
   "cell_type": "code",
   "execution_count": null,
   "metadata": {
    "collapsed": true
   },
   "outputs": [],
   "source": [
    "##Question: To calculate standard deviation does np.std() use 1/N or 1/(N-1)\n",
    "1/N"
   ]
  },
  {
   "cell_type": "code",
   "execution_count": 125,
   "metadata": {
    "collapsed": false
   },
   "outputs": [
    {
     "name": "stdout",
     "output_type": "stream",
     "text": [
      "9.84567842915\n",
      "9.85060496357\n"
     ]
    }
   ],
   "source": [
    "#TODO write no more than 4 lines of code to justify your answer\n",
    "print np.std(normalness)\n",
    "print np.std(normalness, ddof=1)"
   ]
  },
  {
   "cell_type": "markdown",
   "metadata": {},
   "source": [
    "##Meshgrid"
   ]
  },
  {
   "cell_type": "code",
   "execution_count": 78,
   "metadata": {
    "collapsed": false
   },
   "outputs": [
    {
     "name": "stdout",
     "output_type": "stream",
     "text": [
      "points is an array of   3 points: [-1  0  1]\n",
      "the x axis points are\n",
      "[[-1  0  1]\n",
      " [-1  0  1]\n",
      " [-1  0  1]]\n",
      "the y axis points are\n",
      "[[-1 -1 -1]\n",
      " [ 0  0  0]\n",
      " [ 1  1  1]]\n",
      "The individual pairs of points could be generated like this:\n",
      "( -1 , -1 ) ( 0 , -1 ) ( 1 , -1 ) ( -1 , 0 ) ( 0 , 0 ) ( 1 , 0 ) ( -1 , 1 ) ( 0 , 1 ) ( 1 , 1 )\n"
     ]
    }
   ],
   "source": [
    "points = np.arange(-1, 2, 1)\n",
    "print \"points is an array of  \", len(points), \"points:\", points\n",
    "\n",
    "#To create a meshgrid we would therefore need a total of 9 points in a grid, 3 along an x axis and 3 along a y axis\n",
    "x, y = np.meshgrid(points, points)\n",
    "\n",
    "print \"the x axis points are\\n\", x\n",
    "print \"the y axis points are\\n\", y\n",
    "\n",
    "print \"The individual pairs of points could be generated like this:\"\n",
    "\n",
    "for i in np.arange(len(points)):\n",
    "    for j in np.arange(len(points)):\n",
    "        print \"(\", x[i][j], \",\", y[i][j], \")\","
   ]
  },
  {
   "cell_type": "markdown",
   "metadata": {},
   "source": [
    "####Meshgrad is useful for 3d plotting"
   ]
  }
 ],
 "metadata": {
  "kernelspec": {
   "display_name": "Python 2",
   "language": "python",
   "name": "python2"
  },
  "language_info": {
   "codemirror_mode": {
    "name": "ipython",
    "version": 2
   },
   "file_extension": ".py",
   "mimetype": "text/x-python",
   "name": "python",
   "nbconvert_exporter": "python",
   "pygments_lexer": "ipython2",
   "version": "2.7.6"
  }
 },
 "nbformat": 4,
 "nbformat_minor": 0
}
