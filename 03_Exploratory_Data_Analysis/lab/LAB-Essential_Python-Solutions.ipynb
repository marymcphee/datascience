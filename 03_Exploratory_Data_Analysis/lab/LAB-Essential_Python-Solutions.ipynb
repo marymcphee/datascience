{
 "cells": [
  {
   "cell_type": "markdown",
   "metadata": {},
   "source": [
    "# Basic Python Containers: Lists, Dictionaries, Sets, Tuples"
   ]
  },
  {
   "cell_type": "markdown",
   "metadata": {},
   "source": [
    "We will review the following Python data types: **lists**, **dictionaries**, **sets**, and **tuples**.\n",
    "\n",
    "This is a link to the official python documentation http://docs.python.org/2/"
   ]
  },
  {
   "cell_type": "markdown",
   "metadata": {},
   "source": [
    "## Lists\n",
    "\n",
    "A list is an ordered, indexable collection of data. Lets say you have collected some current and voltage data that looks like this:\n",
    "\n",
    "    voltages:\n",
    "    -2.0\n",
    "    -1.0\n",
    "     0.0\n",
    "     1.0\n",
    "     2.0\n",
    "\n",
    "    currents:\n",
    "    -1.0\n",
    "    -0.5\n",
    "     0.0\n",
    "     0.5\n",
    "     1.0\n",
    "\n",
    "Create lists of the voltages and the currents:"
   ]
  },
  {
   "cell_type": "code",
   "execution_count": 1,
   "metadata": {
    "collapsed": true
   },
   "outputs": [],
   "source": [
    "# TODO now you add code to create the lists\n",
    "voltages = [-2.0, -1.0, 0.0, 1.0, 2.0]\n",
    "currents = [-1.0, -0.5, 0.0, 0.5, 1.0]"
   ]
  },
  {
   "cell_type": "markdown",
   "metadata": {},
   "source": [
    "**voltages** is an object of the type **list**. Verify this in Python."
   ]
  },
  {
   "cell_type": "code",
   "execution_count": 2,
   "metadata": {
    "collapsed": false
   },
   "outputs": [
    {
     "data": {
      "text/plain": [
       "list"
      ]
     },
     "execution_count": 2,
     "metadata": {},
     "output_type": "execute_result"
    }
   ],
   "source": [
    "# TODO now you add code to check the type of voltages\n",
    "type(voltages)"
   ]
  },
  {
   "cell_type": "markdown",
   "metadata": {},
   "source": [
    "Python lists are indexed from zero. Retrieve the first voltage:"
   ]
  },
  {
   "cell_type": "code",
   "execution_count": 4,
   "metadata": {
    "collapsed": false
   },
   "outputs": [
    {
     "data": {
      "text/plain": [
       "-2.0"
      ]
     },
     "execution_count": 4,
     "metadata": {},
     "output_type": "execute_result"
    }
   ],
   "source": [
    "# TODO now you add the code to retrieve the first element from voltages\n",
    "voltages[0]"
   ]
  },
  {
   "cell_type": "markdown",
   "metadata": {},
   "source": [
    "Now retrieve the third element:"
   ]
  },
  {
   "cell_type": "code",
   "execution_count": 5,
   "metadata": {
    "collapsed": false
   },
   "outputs": [
    {
     "data": {
      "text/plain": [
       "0.0"
      ]
     },
     "execution_count": 5,
     "metadata": {},
     "output_type": "execute_result"
    }
   ],
   "source": [
    "# TODO now you add the code to retrieve the third element\n",
    "voltages[2]"
   ]
  },
  {
   "cell_type": "markdown",
   "metadata": {},
   "source": [
    "Lists can be indexed from the back using a negative index. Retrieve the last element from currents by indexing from the end of the list."
   ]
  },
  {
   "cell_type": "code",
   "execution_count": 6,
   "metadata": {
    "collapsed": false
   },
   "outputs": [
    {
     "data": {
      "text/plain": [
       "1.0"
      ]
     },
     "execution_count": 6,
     "metadata": {},
     "output_type": "execute_result"
    }
   ],
   "source": [
    "# TODO now you add the code to retrieve the last element from currents\n",
    "currents[-1]"
   ]
  },
  {
   "cell_type": "markdown",
   "metadata": {},
   "source": [
    "Now retrieve the second-to-last element from currents:"
   ]
  },
  {
   "cell_type": "code",
   "execution_count": 7,
   "metadata": {
    "collapsed": false
   },
   "outputs": [
    {
     "data": {
      "text/plain": [
       "0.5"
      ]
     },
     "execution_count": 7,
     "metadata": {},
     "output_type": "execute_result"
    }
   ],
   "source": [
    "# TODO now you add the code to retrieve the second-to-last element from currents\n",
    "currents[-2]"
   ]
  },
  {
   "cell_type": "markdown",
   "metadata": {},
   "source": [
    "You can \"slice\" items from within a list. Lets say we wanted the second through fourth items from `voltages`"
   ]
  },
  {
   "cell_type": "code",
   "execution_count": 11,
   "metadata": {
    "collapsed": false
   },
   "outputs": [
    {
     "data": {
      "text/plain": [
       "[-1.0, 0.0, 1.0]"
      ]
     },
     "execution_count": 11,
     "metadata": {},
     "output_type": "execute_result"
    }
   ],
   "source": [
    "# TODO now you add the code to slice the voltages list from the second to fourth items\n",
    "voltages[1:4]"
   ]
  },
  {
   "cell_type": "markdown",
   "metadata": {},
   "source": [
    "Now retrieve the first through the third items."
   ]
  },
  {
   "cell_type": "code",
   "execution_count": 12,
   "metadata": {
    "collapsed": false
   },
   "outputs": [
    {
     "data": {
      "text/plain": [
       "[-2.0, -1.0]"
      ]
     },
     "execution_count": 12,
     "metadata": {},
     "output_type": "execute_result"
    }
   ],
   "source": [
    "# TODO now you add the code to slice\n",
    "voltages[0:2]"
   ]
  },
  {
   "cell_type": "markdown",
   "metadata": {},
   "source": [
    "You can also slice from an index to the end, or to an index from the begining."
   ]
  },
  {
   "cell_type": "code",
   "execution_count": 13,
   "metadata": {
    "collapsed": false
   },
   "outputs": [
    {
     "name": "stdout",
     "output_type": "stream",
     "text": [
      "[-1.0, 0.0, 1.0, 2.0]\n",
      "[-2.0, -1.0, 0.0, 1.0, 2.0]\n"
     ]
    }
   ],
   "source": [
    "#TODo now you add 2 lines of code to illustrate slicing from an index to the end, and from the begining to an index\n",
    "print voltages[1:]\n",
    "print voltages[:5]"
   ]
  },
  {
   "cell_type": "markdown",
   "metadata": {},
   "source": [
    "### Append and Extend\n",
    "\n",
    "Just like strings have methods, lists do too."
   ]
  },
  {
   "cell_type": "code",
   "execution_count": 14,
   "metadata": {
    "collapsed": false
   },
   "outputs": [
    {
     "data": {
      "text/plain": [
       "['__add__',\n",
       " '__class__',\n",
       " '__contains__',\n",
       " '__delattr__',\n",
       " '__delitem__',\n",
       " '__delslice__',\n",
       " '__doc__',\n",
       " '__eq__',\n",
       " '__format__',\n",
       " '__ge__',\n",
       " '__getattribute__',\n",
       " '__getitem__',\n",
       " '__getslice__',\n",
       " '__gt__',\n",
       " '__hash__',\n",
       " '__iadd__',\n",
       " '__imul__',\n",
       " '__init__',\n",
       " '__iter__',\n",
       " '__le__',\n",
       " '__len__',\n",
       " '__lt__',\n",
       " '__mul__',\n",
       " '__ne__',\n",
       " '__new__',\n",
       " '__reduce__',\n",
       " '__reduce_ex__',\n",
       " '__repr__',\n",
       " '__reversed__',\n",
       " '__rmul__',\n",
       " '__setattr__',\n",
       " '__setitem__',\n",
       " '__setslice__',\n",
       " '__sizeof__',\n",
       " '__str__',\n",
       " '__subclasshook__',\n",
       " 'append',\n",
       " 'count',\n",
       " 'extend',\n",
       " 'index',\n",
       " 'insert',\n",
       " 'pop',\n",
       " 'remove',\n",
       " 'reverse',\n",
       " 'sort']"
      ]
     },
     "execution_count": 14,
     "metadata": {},
     "output_type": "execute_result"
    }
   ],
   "source": [
    "#TODO find a command that will list out the attributes and methods of lists\n",
    "dir(list)"
   ]
  },
  {
   "cell_type": "markdown",
   "metadata": {},
   "source": [
    "One useful method is append. Lets say we want to stick the following data on the end of both our lists.\n",
    "\n",
    "    voltages:\n",
    "     3.0\n",
    "     4.0\n",
    "\n",
    "    currents:\n",
    "     1.5\n",
    "     2.0\n",
    "\n",
    "If you want to append items to the end of a list, use the append method."
   ]
  },
  {
   "cell_type": "code",
   "execution_count": 16,
   "metadata": {
    "collapsed": false
   },
   "outputs": [
    {
     "name": "stdout",
     "output_type": "stream",
     "text": [
      "[-2.0, -1.0, 0.0, 1.0, 2.0, 3, 3]\n"
     ]
    }
   ],
   "source": [
    "# TODO now you add the code to append 3.0 to voltages\n",
    "voltages.append(3)\n",
    "print voltages"
   ]
  },
  {
   "cell_type": "code",
   "execution_count": 17,
   "metadata": {
    "collapsed": true
   },
   "outputs": [],
   "source": [
    "# TODO now you add the code to append 4.0 to voltages\n",
    "voltages.append(4)"
   ]
  },
  {
   "cell_type": "code",
   "execution_count": 18,
   "metadata": {
    "collapsed": false
   },
   "outputs": [
    {
     "name": "stdout",
     "output_type": "stream",
     "text": [
      "[-2.0, -1.0, 0.0, 1.0, 2.0, 3, 3, 4]\n"
     ]
    }
   ],
   "source": [
    "# TODO print out the voltages list\n",
    "print voltages"
   ]
  },
  {
   "cell_type": "markdown",
   "metadata": {},
   "source": [
    "You can see how that approach might be tedious in certain cases. If you want to concatenate a list onto the end of another one, use extend."
   ]
  },
  {
   "cell_type": "code",
   "execution_count": 19,
   "metadata": {
    "collapsed": true
   },
   "outputs": [],
   "source": [
    "# TODO extend the currents list with the following list [1.5, 3.4]\n",
    "currents.extend([1.5, 3.4])"
   ]
  },
  {
   "cell_type": "code",
   "execution_count": 20,
   "metadata": {
    "collapsed": false
   },
   "outputs": [
    {
     "name": "stdout",
     "output_type": "stream",
     "text": [
      "[-1.0, -0.5, 0.0, 0.5, 1.0, 1.5, 3.4]\n"
     ]
    }
   ],
   "source": [
    "# print the currents list\n",
    "print currents"
   ]
  },
  {
   "cell_type": "markdown",
   "metadata": {},
   "source": [
    "### Length of Lists\n",
    "\n",
    "\n",
    "\n",
    "Sometimes you want to know how many items are in a list. Use the len command."
   ]
  },
  {
   "cell_type": "code",
   "execution_count": 21,
   "metadata": {
    "collapsed": false
   },
   "outputs": [
    {
     "name": "stdout",
     "output_type": "stream",
     "text": [
      "8\n",
      "7\n"
     ]
    }
   ],
   "source": [
    "#TODO find a command to print the length of a list and print the length of the voltages and currents list\n",
    "print len(voltages)\n",
    "print len(currents)"
   ]
  },
  {
   "cell_type": "markdown",
   "metadata": {},
   "source": [
    "### Heterogeneous Data\n",
    "\n",
    "\n",
    "\n",
    "Lists can contain hetergeneous data."
   ]
  },
  {
   "cell_type": "code",
   "execution_count": 22,
   "metadata": {
    "collapsed": true
   },
   "outputs": [],
   "source": [
    "# TODO create a list \"data_list\" that has the following item:\n",
    "# the string \"experiment: current vs. voltage\"\n",
    "# the string \"temperature\"\n",
    "# the float 372.756\n",
    "# the string \"current\"\n",
    "# the current list created above\n",
    "# the string \"voltage\"\n",
    "# the voltage list created above\n",
    "\n",
    "data_list = [\"experiment: current vs. voltage\", \"temperature\", 372.756, \"current\", currents, \"voltage\", voltages]"
   ]
  },
  {
   "cell_type": "code",
   "execution_count": 24,
   "metadata": {
    "collapsed": false
   },
   "outputs": [
    {
     "name": "stdout",
     "output_type": "stream",
     "text": [
      "['experiment: current vs. voltage', 'temperature', 372.756, 'current', [-1.0, -0.5, 0.0, 0.5, 1.0, 1.5, 3.4], 'voltage', [-2.0, -1.0, 0.0, 1.0, 2.0, 3, 3, 4]]\n"
     ]
    }
   ],
   "source": [
    "# TODO print the data_list\n",
    "print data_list"
   ]
  },
  {
   "cell_type": "markdown",
   "metadata": {},
   "source": [
    "`data_list` contains strings, ints, floats, and other lists."
   ]
  },
  {
   "cell_type": "markdown",
   "metadata": {},
   "source": [
    "## Assigning Variables to Other Variables - View vs Copy\n",
    "\n",
    "Something that might cause you headaches is how python deals with assignment of one variable to another. \n",
    "\n",
    "When you set a variable equal to another, both variables point to the same location in memory. \n",
    "\n",
    "Changing the first one ends up changing the second. \n",
    "\n",
    "Be careful about this fact."
   ]
  },
  {
   "cell_type": "code",
   "execution_count": 26,
   "metadata": {
    "collapsed": true
   },
   "outputs": [],
   "source": [
    "a = [1, 2]\n",
    "b = a\n",
    "a.append(10)"
   ]
  },
  {
   "cell_type": "code",
   "execution_count": 27,
   "metadata": {
    "collapsed": false
   },
   "outputs": [
    {
     "data": {
      "text/plain": [
       "[1, 2, 10]"
      ]
     },
     "execution_count": 27,
     "metadata": {},
     "output_type": "execute_result"
    }
   ],
   "source": [
    "#TODO before uncommenting the code what do you expect the value of b to be?\n",
    "b"
   ]
  },
  {
   "cell_type": "code",
   "execution_count": 28,
   "metadata": {
    "collapsed": false
   },
   "outputs": [
    {
     "data": {
      "text/plain": [
       "True"
      ]
     },
     "execution_count": 28,
     "metadata": {},
     "output_type": "execute_result"
    }
   ],
   "source": [
    "#TODO before uncommenting the code will this expression evaluate to True or False?\n",
    "a is b"
   ]
  },
  {
   "cell_type": "markdown",
   "metadata": {},
   "source": [
    "To actually make a copy of a list or a dict, use the `list()` and `dict()` builtin methods."
   ]
  },
  {
   "cell_type": "code",
   "execution_count": 29,
   "metadata": {
    "collapsed": false
   },
   "outputs": [],
   "source": [
    "a = [1, 2]\n",
    "b = list(a)\n",
    "a.append(10)"
   ]
  },
  {
   "cell_type": "code",
   "execution_count": 30,
   "metadata": {
    "collapsed": false
   },
   "outputs": [
    {
     "name": "stdout",
     "output_type": "stream",
     "text": [
      "[1, 2, 10]\n",
      "[1, 2]\n"
     ]
    }
   ],
   "source": [
    "#TODO before uncommenting the code what do you expect the value of a and b to be?\n",
    "print a\n",
    "print b"
   ]
  },
  {
   "cell_type": "code",
   "execution_count": 31,
   "metadata": {
    "collapsed": false
   },
   "outputs": [
    {
     "data": {
      "text/plain": [
       "False"
      ]
     },
     "execution_count": 31,
     "metadata": {},
     "output_type": "execute_result"
    }
   ],
   "source": [
    "#TODO before uncommenting the code will this expression evaluate to True or False?\n",
    "a is b"
   ]
  },
  {
   "cell_type": "markdown",
   "metadata": {},
   "source": [
    "####As a diagnostic tool, if you are ever uncertain if an assignment is making two different variables,  you can test whether two variables are actually distinct with the `is` operator:"
   ]
  },
  {
   "cell_type": "markdown",
   "metadata": {},
   "source": [
    "## Tuples\n",
    "\n",
    "Tuples are another of Python's basic container data types. They are very similar to lists but with one major difference. Tuples are **immutable**. Once data is placed into a tuple, the tuple cannot be changed. You define a tuple as follows:"
   ]
  },
  {
   "cell_type": "code",
   "execution_count": 33,
   "metadata": {
    "collapsed": true
   },
   "outputs": [],
   "source": [
    "tup = (\"red\", \"white\", \"blue\")"
   ]
  },
  {
   "cell_type": "code",
   "execution_count": 34,
   "metadata": {
    "collapsed": false
   },
   "outputs": [
    {
     "data": {
      "text/plain": [
       "tuple"
      ]
     },
     "execution_count": 34,
     "metadata": {},
     "output_type": "execute_result"
    }
   ],
   "source": [
    "#TODO test the type of \"tup\"\n",
    "type(tup)"
   ]
  },
  {
   "cell_type": "markdown",
   "metadata": {},
   "source": [
    "You can slice and index the tuple exactly like you would a list. Tuples are used in the inner workings of python, and a tuple can be used as a key in a dictionary, whereas a list cannot as we will see in a moment.\n",
    "\n",
    "See if you can retrieve the third element of **tup**:"
   ]
  },
  {
   "cell_type": "code",
   "execution_count": 35,
   "metadata": {
    "collapsed": false
   },
   "outputs": [
    {
     "data": {
      "text/plain": [
       "'blue'"
      ]
     },
     "execution_count": 35,
     "metadata": {},
     "output_type": "execute_result"
    }
   ],
   "source": [
    "# TODO add the code to retrieve the third element of tup \n",
    "tup[2]"
   ]
  },
  {
   "cell_type": "markdown",
   "metadata": {},
   "source": [
    "## Sets\n",
    "\n",
    "\n",
    "\n",
    "The Python set type is similar to the idea of a mathematical set: it is an unordered collection of unique things. Consider:"
   ]
  },
  {
   "cell_type": "code",
   "execution_count": 36,
   "metadata": {
    "collapsed": true
   },
   "outputs": [],
   "source": [
    "fruit = {\"apple\", \"banana\", \"pear\", \"banana\"}"
   ]
  },
  {
   "cell_type": "markdown",
   "metadata": {},
   "source": [
    "Since sets contain only unique items, there's only one banana in the set fruit.\n",
    "\n",
    "You can do things like intersections, unions, etc. on sets just like in math. Here's an example of an intersection of two sets (the common items in both sets)."
   ]
  },
  {
   "cell_type": "code",
   "execution_count": 37,
   "metadata": {
    "collapsed": true
   },
   "outputs": [],
   "source": [
    "bowl1 = {\"apple\", \"banana\", \"pear\", \"peach\"}"
   ]
  },
  {
   "cell_type": "code",
   "execution_count": 38,
   "metadata": {
    "collapsed": true
   },
   "outputs": [],
   "source": [
    "bowl2 = {\"peach\", \"watermelon\", \"orange\", \"apple\"}"
   ]
  },
  {
   "cell_type": "code",
   "execution_count": 39,
   "metadata": {
    "collapsed": false
   },
   "outputs": [
    {
     "data": {
      "text/plain": [
       "{'apple', 'peach'}"
      ]
     },
     "execution_count": 39,
     "metadata": {},
     "output_type": "execute_result"
    }
   ],
   "source": [
    "# TODO uncomment and run the code below\n",
    "bowl1 & bowl2"
   ]
  },
  {
   "cell_type": "code",
   "execution_count": 40,
   "metadata": {
    "collapsed": false
   },
   "outputs": [
    {
     "data": {
      "text/plain": [
       "{'apple', 'banana', 'orange', 'peach', 'pear', 'watermelon'}"
      ]
     },
     "execution_count": 40,
     "metadata": {},
     "output_type": "execute_result"
    }
   ],
   "source": [
    "# TODO uncomment and run the code below\n",
    "bowl1 | bowl2"
   ]
  },
  {
   "cell_type": "code",
   "execution_count": 44,
   "metadata": {
    "collapsed": false
   },
   "outputs": [
    {
     "name": "stdout",
     "output_type": "stream",
     "text": [
      "<type 'list'>\n",
      "<type 'set'>\n",
      "set([1, 2, 3, 4, 5, 6])\n"
     ]
    }
   ],
   "source": [
    "num_list = [1, 2, 3, 4, 5, 6, 6, 6, 6,]\n",
    "#num_list is clearly a list of numbers\n",
    "#TODO confirm the type of num_list\n",
    "#TODO convert the list to a set\n",
    "#TODO confirm the type of the set\n",
    "#TODO print the set\n",
    "print type(num_list)\n",
    "num_set = set(num_list)\n",
    "print type(num_set)\n",
    "print num_set"
   ]
  },
  {
   "cell_type": "markdown",
   "metadata": {},
   "source": [
    "####Like lists sets have set-comprehensions"
   ]
  },
  {
   "cell_type": "markdown",
   "metadata": {},
   "source": [
    "You can read more in the [sets documentation](http://docs.python.org/2/library/sets.html)."
   ]
  },
  {
   "cell_type": "markdown",
   "metadata": {},
   "source": [
    "## Dictionaries\n",
    "\n",
    "A Python dictionary is an unordered collection of key-value pairs."
   ]
  },
  {
   "cell_type": "code",
   "execution_count": 45,
   "metadata": {
    "collapsed": true
   },
   "outputs": [],
   "source": [
    "data_dict = {\"experiment\": \"current vs. voltage\",\n",
    "        \"run\": 47,\n",
    "        \"temperature\": 372.756, \n",
    "        \"currents\": [-1.0, -0.5, 0.0, 0.5, 1.0], \n",
    "        \"voltages\": [-2.0, -1.0, 0.0, 1.0, 2.0],\n",
    "        }"
   ]
  },
  {
   "cell_type": "code",
   "execution_count": 46,
   "metadata": {
    "collapsed": false
   },
   "outputs": [
    {
     "name": "stdout",
     "output_type": "stream",
     "text": [
      "{'experiment': 'current vs. voltage', 'run': 47, 'temperature': 372.756, 'currents': [-1.0, -0.5, 0.0, 0.5, 1.0], 'voltages': [-2.0, -1.0, 0.0, 1.0, 2.0]}\n"
     ]
    }
   ],
   "source": [
    "# TODO print out the dictionary \"data_dict\"\n",
    "print data_dict"
   ]
  },
  {
   "cell_type": "markdown",
   "metadata": {},
   "source": [
    "This model is better because you no longer have to remember that the run number is in the second position of the list, you just refer directly to \"run\". run is referred to as a key:"
   ]
  },
  {
   "cell_type": "code",
   "execution_count": 47,
   "metadata": {
    "collapsed": false
   },
   "outputs": [
    {
     "data": {
      "text/plain": [
       "47"
      ]
     },
     "execution_count": 47,
     "metadata": {},
     "output_type": "execute_result"
    }
   ],
   "source": [
    "# TODO uncomment the line below and see what is returned\n",
    "data_dict[\"run\"]"
   ]
  },
  {
   "cell_type": "markdown",
   "metadata": {},
   "source": [
    "Now retrieve the voltages from `data_dict` using the appropriate key:"
   ]
  },
  {
   "cell_type": "code",
   "execution_count": 48,
   "metadata": {
    "collapsed": false
   },
   "outputs": [
    {
     "data": {
      "text/plain": [
       "[-2.0, -1.0, 0.0, 1.0, 2.0]"
      ]
     },
     "execution_count": 48,
     "metadata": {},
     "output_type": "execute_result"
    }
   ],
   "source": [
    "# TODO now you add the code to retrieve the voltages from the dict\n",
    "data_dict[\"voltages\"]"
   ]
  },
  {
   "cell_type": "markdown",
   "metadata": {},
   "source": [
    "Now print the last element of the list keyed on \"currents\"."
   ]
  },
  {
   "cell_type": "code",
   "execution_count": 51,
   "metadata": {
    "collapsed": false
   },
   "outputs": [
    {
     "name": "stdout",
     "output_type": "stream",
     "text": [
      "1.0\n"
     ]
    }
   ],
   "source": [
    "# TODO now you add the code to print the last element of the list keyed on \"currents.\"\n",
    "print data_dict[\"currents\"][len(data_dict[\"currents\"])-1]"
   ]
  },
  {
   "cell_type": "markdown",
   "metadata": {},
   "source": [
    "Dictionaries are mutable. That is, you can change the keys and values after they have been created."
   ]
  },
  {
   "cell_type": "code",
   "execution_count": 54,
   "metadata": {
    "collapsed": false
   },
   "outputs": [
    {
     "name": "stdout",
     "output_type": "stream",
     "text": [
      "3275.39\n",
      "3275.39\n"
     ]
    }
   ],
   "source": [
    "# TODO now you change the value for the key \"temperature\" to 3275.39.\n",
    "data_dict[\"temperature\"] = 3275.39\n",
    "print data_dict[\"temperature\"]"
   ]
  },
  {
   "cell_type": "markdown",
   "metadata": {},
   "source": [
    "You can also add new keys to the dictionary.  Note that dictionaries are indexed with square braces, just like lists."
   ]
  },
  {
   "cell_type": "code",
   "execution_count": 56,
   "metadata": {
    "collapsed": false
   },
   "outputs": [
    {
     "name": "stdout",
     "output_type": "stream",
     "text": [
      "{'run': 47, 'temperature': 3275.39, 'voltages': [-2.0, -1.0, 0.0, 1.0, 2.0], 'experiment': 'current vs. voltage', 'user': 'Johann G. von Ulm', 'currents': [-1.0, -0.5, 0.0, 0.5, 1.0]}\n"
     ]
    }
   ],
   "source": [
    "# TODO now add the key:value pair \"user\":\"Johann G. von Ulm\"\n",
    "data_dict[\"user\"] = \"Johann G. von Ulm\"\n",
    "print data_dict"
   ]
  },
  {
   "cell_type": "markdown",
   "metadata": {},
   "source": [
    "Dictionaries, like strings, lists, and all the rest, have built-in methods. Print all of the keys for the dictionary using the `keys()` method."
   ]
  },
  {
   "cell_type": "code",
   "execution_count": 57,
   "metadata": {
    "collapsed": false
   },
   "outputs": [
    {
     "name": "stdout",
     "output_type": "stream",
     "text": [
      "['run', 'temperature', 'voltages', 'experiment', 'user', 'currents']\n"
     ]
    }
   ],
   "source": [
    "# TODO now you add the code to print the keys.\n",
    "print data_dict.keys()"
   ]
  },
  {
   "cell_type": "markdown",
   "metadata": {},
   "source": [
    "Now find a method to print all of the dictionary's values."
   ]
  },
  {
   "cell_type": "code",
   "execution_count": 60,
   "metadata": {
    "collapsed": false
   },
   "outputs": [
    {
     "name": "stdout",
     "output_type": "stream",
     "text": [
      "[47, 3275.39, [-2.0, -1.0, 0.0, 1.0, 2.0], 'current vs. voltage', 'Johann G. von Ulm', [-1.0, -0.5, 0.0, 0.5, 1.0]]\n"
     ]
    }
   ],
   "source": [
    "# TODO now find a method to print all of the dictionary's values.\n",
    "print data_dict.values()"
   ]
  }
 ],
 "metadata": {
  "kernelspec": {
   "display_name": "Python 2",
   "language": "python",
   "name": "python2"
  },
  "language_info": {
   "codemirror_mode": {
    "name": "ipython",
    "version": 2
   },
   "file_extension": ".py",
   "mimetype": "text/x-python",
   "name": "python",
   "nbconvert_exporter": "python",
   "pygments_lexer": "ipython2",
   "version": "2.7.10"
  }
 },
 "nbformat": 4,
 "nbformat_minor": 0
}
